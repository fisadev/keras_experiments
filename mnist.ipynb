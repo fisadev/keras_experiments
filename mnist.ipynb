{
 "cells": [
  {
   "cell_type": "code",
   "execution_count": null,
   "metadata": {
    "collapsed": false
   },
   "outputs": [],
   "source": [
    "import csv\n",
    "\n",
    "import numpy as np\n",
    "import pandas as pd\n",
    "\n",
    "from IPython.display import display\n",
    "\n",
    "from bokeh.plotting import output_notebook, show, figure\n",
    "\n",
    "from sklearn.metrics import classification_report, accuracy_score\n",
    "\n",
    "from keras.models import Sequential\n",
    "from keras.layers import Dense, Activation\n",
    "\n",
    "output_notebook()"
   ]
  },
  {
   "cell_type": "code",
   "execution_count": null,
   "metadata": {
    "collapsed": false
   },
   "outputs": [],
   "source": [
    "input_columns = list(range(28 * 28))\n",
    "label_column = 'number'\n",
    "columns=[label_column,] + input_columns\n",
    "\n",
    "train = pd.read_csv('mnist_train.csv', names=columns)\n",
    "test = pd.read_csv('mnist_test.csv', names=columns)\n",
    "\n",
    "categories = list(range(10))\n",
    "\n",
    "train.head()"
   ]
  },
  {
   "cell_type": "code",
   "execution_count": null,
   "metadata": {
    "collapsed": false
   },
   "outputs": [],
   "source": [
    "def show_images(samples, titles):\n",
    "    titles = titles.astype(str)\n",
    "    samples_as_grid = [sample_values.reshape(28, 28)[::-1, :]\n",
    "                       for sample_values in samples[input_columns].values]\n",
    "\n",
    "    for title, sample in zip(titles, samples_as_grid):\n",
    "        f = figure(title=title, plot_width=400, plot_height=400, x_range=(0, 28), y_range=(0, 28))\n",
    "        f.image([sample], x=[0], y=[0], dw=[28], dh=[28], palette=\"Greys9\")\n",
    "        show(f)"
   ]
  },
  {
   "cell_type": "code",
   "execution_count": null,
   "metadata": {
    "collapsed": false
   },
   "outputs": [],
   "source": [
    "samples = train.sample(1)\n",
    "show_images(samples, samples[label_column])"
   ]
  },
  {
   "cell_type": "code",
   "execution_count": null,
   "metadata": {
    "collapsed": false
   },
   "outputs": [],
   "source": [
    "label_colors = [\n",
    "    'red',\n",
    "    'green',\n",
    "    'blue',\n",
    "    'indigo',\n",
    "    'chocolate',\n",
    "    'crimsom',\n",
    "    'darkgrey',\n",
    "    'darkkhaki',\n",
    "    'darkviolet',\n",
    "    'gold',\n",
    "]\n",
    "\n",
    "feature1 = 290\n",
    "feature2 = 291\n",
    "\n",
    "colors = train[label_column].map(lambda x: label_colors[x])\n",
    "\n",
    "f = figure()\n",
    "\n",
    "f.xaxis.axis_label = \"feature \" + str(feature1)\n",
    "f.yaxis.axis_label = \"feature \" + str(feature2)\n",
    "\n",
    "f.circle(train[feature1], \n",
    "         train[feature2], \n",
    "         color=colors)\n",
    "show(f)"
   ]
  },
  {
   "cell_type": "code",
   "execution_count": null,
   "metadata": {
    "collapsed": true
   },
   "outputs": [],
   "source": [
    "def get_binarized_labels(dataset):\n",
    "    # pd.get_dummies is a problem due to ordering of columns and other stuff\n",
    "    binarized_labels = dataset[[label_column]].copy()\n",
    "    \n",
    "    for number in categories:\n",
    "        binarized_labels[number] = binarized_labels[label_column] == number\n",
    "    \n",
    "    binarized_labels.drop(label_column, axis=1, inplace=True)\n",
    "    \n",
    "    return binarized_labels\n",
    "\n",
    "def get_unbinarized_labels(binarized_labels):\n",
    "    unbinarized_labels = pd.DataFrame(binarized_labels, columns=categories)\n",
    "    return unbinarized_labels.idxmax(axis=1)"
   ]
  },
  {
   "cell_type": "code",
   "execution_count": null,
   "metadata": {
    "collapsed": false
   },
   "outputs": [],
   "source": [
    "model = Sequential([\n",
    "    Dense(800, input_dim=len(input_columns)),\n",
    "    Activation('tanh'),\n",
    "    Dense(800),\n",
    "    Activation('tanh'),\n",
    "    Dense(10),\n",
    "    Activation('sigmoid'),\n",
    "])\n",
    "\n",
    "model.compile(\n",
    "    optimizer='adam',\n",
    "    loss='categorical_crossentropy',\n",
    "    metrics=['accuracy',],\n",
    ")\n",
    "\n",
    "model.fit(\n",
    "    train[input_columns].values, \n",
    "    get_binarized_labels(train).values, \n",
    "    nb_epoch=5,\n",
    "    batch_size=1024,\n",
    ")"
   ]
  },
  {
   "cell_type": "code",
   "execution_count": null,
   "metadata": {
    "collapsed": false
   },
   "outputs": [],
   "source": [
    "groups = (\n",
    "    ('train', train),\n",
    "    ('test', test),\n",
    ")\n",
    "\n",
    "for name, dataset in groups:\n",
    "    labels = dataset[label_column].values\n",
    "    predictions = get_unbinarized_labels(model.predict(dataset[input_columns].values)).values\n",
    "\n",
    "    print('#' * 50)\n",
    "    print(name)\n",
    "    print('accuracy', accuracy_score(labels, predictions))\n",
    "    print(classification_report(labels, predictions))\n",
    "    print()\n"
   ]
  },
  {
   "cell_type": "code",
   "execution_count": null,
   "metadata": {
    "collapsed": false,
    "scrolled": false
   },
   "outputs": [],
   "source": [
    "test_with_predictions = test.copy()\n",
    "test_with_predictions['predicted_number'] = get_unbinarized_labels(model.predict(test_with_predictions[input_columns].values)).values"
   ]
  },
  {
   "cell_type": "code",
   "execution_count": null,
   "metadata": {
    "collapsed": false,
    "scrolled": false
   },
   "outputs": [],
   "source": [
    "good = test_with_predictions.number == test_with_predictions.predicted_number\n",
    "\n",
    "goods = test_with_predictions[good].sample(5)\n",
    "bads = test_with_predictions[~good].sample(5)\n",
    "\n",
    "show_images(goods, goods['predicted_number'])\n",
    "show_images(bads, bads['predicted_number'].astype(str) + \" but was \" + bads['number'].astype(str))"
   ]
  },
  {
   "cell_type": "code",
   "execution_count": null,
   "metadata": {
    "collapsed": true
   },
   "outputs": [],
   "source": []
  }
 ],
 "metadata": {
  "kernelspec": {
   "display_name": "Python 3",
   "language": "python",
   "name": "python3"
  },
  "language_info": {
   "codemirror_mode": {
    "name": "ipython",
    "version": 3
   },
   "file_extension": ".py",
   "mimetype": "text/x-python",
   "name": "python",
   "nbconvert_exporter": "python",
   "pygments_lexer": "ipython3",
   "version": "3.5.1+"
  }
 },
 "nbformat": 4,
 "nbformat_minor": 1
}
